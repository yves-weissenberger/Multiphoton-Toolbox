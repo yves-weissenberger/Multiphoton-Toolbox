{
 "cells": [
  {
   "cell_type": "code",
   "execution_count": 1,
   "metadata": {
    "collapsed": true
   },
   "outputs": [],
   "source": [
    "import matplotlib.pyplot as plt\n",
    "import tifffile\n",
    "from PIL import Image\n",
    "import os\n",
    "import numpy as np\n",
    "from skimage.feature import register_translation\n",
    "from skimage.feature.register_translation import _upsampled_dft\n",
    "from scipy.ndimage import fourier_shift\n",
    "import time\n",
    "from scipy.stats import kurtosis, skew\n",
    "from skimage import exposure\n",
    "import os\n",
    "import re\n",
    "from skimage import data, color\n",
    "import h5py\n",
    "import scipy.io as spio\n",
    "import sys\n",
    "\n",
    "\n",
    "\n",
    "\n",
    "from multiprocessing.dummy import Pool \n",
    "\n",
    "\n"
   ]
  },
  {
   "cell_type": "code",
   "execution_count": 43,
   "metadata": {
    "collapsed": false
   },
   "outputs": [],
   "source": [
    "HDF_File.close()"
   ]
  },
  {
   "cell_type": "code",
   "execution_count": 2,
   "metadata": {
    "collapsed": false
   },
   "outputs": [],
   "source": [
    "sys.path.append('/home/yves/Documents/')\n",
    "import twoptb as MP"
   ]
  },
  {
   "cell_type": "code",
   "execution_count": null,
   "metadata": {
    "collapsed": false
   },
   "outputs": [],
   "source": []
  },
  {
   "cell_type": "code",
   "execution_count": null,
   "metadata": {
    "collapsed": true
   },
   "outputs": [],
   "source": []
  },
  {
   "cell_type": "markdown",
   "metadata": {},
   "source": [
    "<h2> Create File for Storing Data from one animal </h2>"
   ]
  },
  {
   "cell_type": "code",
   "execution_count": 18,
   "metadata": {
    "collapsed": true
   },
   "outputs": [],
   "source": [
    "animal_name = 'Road_Runner2'"
   ]
  },
  {
   "cell_type": "code",
   "execution_count": 19,
   "metadata": {
    "collapsed": false,
    "scrolled": false
   },
   "outputs": [],
   "source": [
    "HDF_File,file_path = MP.file_management.create_base_hdf(animal_ID=animal_name,file_loc='/media/yves/Storage 2/' )"
   ]
  },
  {
   "cell_type": "code",
   "execution_count": null,
   "metadata": {
    "collapsed": false
   },
   "outputs": [],
   "source": []
  },
  {
   "cell_type": "markdown",
   "metadata": {},
   "source": [
    "<h2> Initialise the Storage Unit </h2> "
   ]
  },
  {
   "cell_type": "code",
   "execution_count": 20,
   "metadata": {
    "collapsed": true
   },
   "outputs": [],
   "source": [
    "session_ID = '20160216'"
   ]
  },
  {
   "cell_type": "code",
   "execution_count": 21,
   "metadata": {
    "collapsed": false
   },
   "outputs": [],
   "source": [
    "HDF_File = MP.file_management.add_session_groups(file_handle = HDF_File,\n",
    "                                                 session_ID=session_ID)"
   ]
  },
  {
   "cell_type": "markdown",
   "metadata": {},
   "source": [
    "<h2> Convert Data to HDF5 </h2>"
   ]
  },
  {
   "cell_type": "code",
   "execution_count": 22,
   "metadata": {
    "collapsed": false,
    "scrolled": true
   },
   "outputs": [
    {
     "data": {
      "text/plain": [
       "['(20160216_17_38_29)-_MouseOnWheelzoom2_tones1',\n",
       " '(20160216_17_48_00)-_MouseOnWheelzoom2_tones2',\n",
       " '(20160216_17_59_00)-_MouseOnWheelzoom2_tones3']"
      ]
     },
     "execution_count": 22,
     "metadata": {},
     "output_type": "execute_result"
    }
   ],
   "source": [
    "#directory containing all the directories containing all tiff files from that day\n",
    "#baseDir = r'l:\\Tonotopy_Mapping\\Bernie-Tonemapping\\\\'\n",
    "baseDir = r'/media/yves/Storage 2/20160216/'\n",
    "\n",
    "\n",
    "fs = os.listdir(baseDir) # all directories in that directory\n",
    "file_Dirs = fs\n",
    "#now use regex to filter which files we want to register\n",
    "#file_Dirs = [re.findall(r'(.*Mapping_Area[0-9]{1,3})',name) for name in fs if re.findall(r'.*(Mapping_Area[0-9]{1,3})',name)!=[]]\n",
    "file_Dirs"
   ]
  },
  {
   "cell_type": "code",
   "execution_count": null,
   "metadata": {
    "collapsed": false
   },
   "outputs": [],
   "source": []
  },
  {
   "cell_type": "code",
   "execution_count": 24,
   "metadata": {
    "collapsed": false
   },
   "outputs": [
    {
     "name": "stdout",
     "output_type": "stream",
     "text": [
      "/media/yves/Storage 2/20160216/(20160216_17_38_29)-_MouseOnWheelzoom2_tones1\n",
      "/media/yves/Storage 2/20160216/(20160216_17_48_00)-_MouseOnWheelzoom2_tones2\n",
      "/media/yves/Storage 2/20160216/(20160216_17_59_00)-_MouseOnWheelzoom2_tones3\n"
     ]
    }
   ],
   "source": [
    "for fDir in file_Dirs:\n",
    "     print baseDir + fDir"
   ]
  },
  {
   "cell_type": "code",
   "execution_count": 25,
   "metadata": {
    "collapsed": false,
    "scrolled": false
   },
   "outputs": [
    {
     "name": "stdout",
     "output_type": "stream",
     "text": [
      "/media/yves/Storage 2/20160216/(20160216_17_38_29)-_MouseOnWheelzoom2_tones1/search_tones_outDat_2016_2_16_17_38_0.mat\n",
      "Load Data 0 Time: 174.92571497\n",
      "Load HDF5 0 Time: 0.0\n",
      "(20160216_17_38_29)-_MouseOnWheelzoom2_tones1\n",
      "Write 0 Time: 156.234110117\n"
     ]
    },
    {
     "name": "stderr",
     "output_type": "stream",
     "text": [
      "/home/yves/Documents/twoptb/file_management/load_images.py:51: VisibleDeprecationWarning: using a non-integer number instead of an integer will result in an error in the future\n",
      "  DM = np.zeros([nStims,nFrames])\n"
     ]
    },
    {
     "name": "stdout",
     "output_type": "stream",
     "text": [
      "Write to Disk 0 Time: 0.567255973816\n",
      "/media/yves/Storage 2/20160216/(20160216_17_48_00)-_MouseOnWheelzoom2_tones2/search_tones_outDat_2016_2_16_17_47_30.mat\n",
      "Load Data 1 Time: 185.553434849\n",
      "Load HDF5 1 Time: 0.000363111495972\n",
      "(20160216_17_48_00)-_MouseOnWheelzoom2_tones2\n",
      "Write 1 Time: 215.054769039\n",
      "Write to Disk 1 Time: 0.483566999435\n",
      "/media/yves/Storage 2/20160216/(20160216_17_59_00)-_MouseOnWheelzoom2_tones3/search_tones_outDat_2016_2_16_17_58_33.mat\n",
      "Load Data 2 Time: 243.281889915\n",
      "Load HDF5 2 Time: 0.000514030456543\n",
      "(20160216_17_59_00)-_MouseOnWheelzoom2_tones3\n",
      "Write 2 Time: 71.2776560783\n",
      "Write to Disk 2 Time: 0.520519018173\n",
      "1049.41010499\n"
     ]
    }
   ],
   "source": [
    "st = time.time()\n",
    "MP.file_management.add_raw_series(baseDir=baseDir,\n",
    "                                  file_Dirs=file_Dirs,\n",
    "                                  HDF_File=HDF_File,\n",
    "                                  session_ID=session_ID)\n",
    "\n",
    "print time.time() - st"
   ]
  },
  {
   "cell_type": "code",
   "execution_count": 16,
   "metadata": {
    "collapsed": false
   },
   "outputs": [],
   "source": [
    "a = np.array(HDF_File[session_ID]['raw_data'][areas[0]])"
   ]
  },
  {
   "cell_type": "code",
   "execution_count": 5,
   "metadata": {
    "collapsed": false,
    "scrolled": true
   },
   "outputs": [],
   "source": [
    "plt.imshow(np.mean(HDF_File[session_ID]['raw_data'][areas[0]][:1000],axis=0))\n",
    "plt.show()"
   ]
  },
  {
   "cell_type": "markdown",
   "metadata": {},
   "source": [
    "<h1> Merge Data (optional) </h1>"
   ]
  },
  {
   "cell_type": "code",
   "execution_count": 6,
   "metadata": {
    "collapsed": false
   },
   "outputs": [
    {
     "name": "stdout",
     "output_type": "stream",
     "text": [
      "0 (20160216_17_38_29)-_MouseOnWheelzoom2_tones1\n",
      "1 (20160216_17_59_00)-_MouseOnWheelzoom2_tones3\n",
      "2 (20160216_17_48_00)-_MouseOnWheelzoom2_tones2\n",
      "Type ordered files to merge with comma separation (e.g. 0,2): 0,2,1\n",
      "\n",
      "Adding /20160216/raw_data/(20160216_17_38_29)-_MouseOnWheelzoom2_tones1\n",
      ". . . . . . \n",
      "Adding /20160216/raw_data/(20160216_17_48_00)-_MouseOnWheelzoom2_tones2\n",
      ". . . . . . . \n",
      "Adding /20160216/raw_data/(20160216_17_59_00)-_MouseOnWheelzoom2_tones3\n",
      ". . . . . . . Done!\n"
     ]
    }
   ],
   "source": [
    "sessionFile = HDF_File[session_ID]\n",
    "MP.file_management.merge_files(sessionFile,'Area01_merge')"
   ]
  },
  {
   "cell_type": "code",
   "execution_count": 9,
   "metadata": {
    "collapsed": false
   },
   "outputs": [
    {
     "data": {
      "text/plain": [
       "<HDF5 dataset \"Area01_merge\": shape (40500, 512, 512), type \"<i2\">"
      ]
     },
     "execution_count": 9,
     "metadata": {},
     "output_type": "execute_result"
    }
   ],
   "source": [
    "HDF_File[session_ID]['raw_data']['Area01_merge']"
   ]
  },
  {
   "cell_type": "code",
   "execution_count": null,
   "metadata": {
    "collapsed": true
   },
   "outputs": [],
   "source": []
  },
  {
   "cell_type": "markdown",
   "metadata": {},
   "source": [
    "<h2> Register Images </h2>"
   ]
  },
  {
   "cell_type": "code",
   "execution_count": 10,
   "metadata": {
    "collapsed": true
   },
   "outputs": [],
   "source": [
    "pth = '/media/yves/Storage 2/Road_Runner2/Road_Runner2.h5'"
   ]
  },
  {
   "cell_type": "code",
   "execution_count": 11,
   "metadata": {
    "collapsed": false
   },
   "outputs": [],
   "source": [
    "HDF_File = h5py.File(pth,'a',libver='latest')\n",
    "session_ID = HDF_File.keys()[0]\n",
    "\n",
    "areas = HDF_File[session_ID]['raw_data'].keys()\n",
    "#HDF_File = MP.image_registration.register_dayData(HDF_File=HDF_File,\n",
    "#                               session_ID=session_ID)\n"
   ]
  },
  {
   "cell_type": "code",
   "execution_count": null,
   "metadata": {
    "collapsed": false
   },
   "outputs": [],
   "source": []
  },
  {
   "cell_type": "markdown",
   "metadata": {},
   "source": [
    "<h3> Run registration </h3>"
   ]
  },
  {
   "cell_type": "code",
   "execution_count": null,
   "metadata": {
    "collapsed": false,
    "scrolled": false
   },
   "outputs": [
    {
     "name": "stdout",
     "output_type": "stream",
     "text": [
      "Session ID: 20160216\n",
      "Areas: [u'Area01_merge']\n"
     ]
    }
   ],
   "source": [
    "st = time.time()\n",
    "session_ID = HDF_File.keys()[0]\n",
    "print 'Session ID: %s' %session_ID\n",
    "Areas = HDF_File[session_ID]['raw_data'].keys()\n",
    "print 'Areas:', Areas\n",
    "HDF_File = MP.image_registration.register_dayData(HDF_File=HDF_File,\n",
    "                                                  session_ID=session_ID,\n",
    "                                                  inRAM=False)\n",
    "                                                  #poolSize=16)\n",
    "print time.time() - st"
   ]
  },
  {
   "cell_type": "code",
   "execution_count": 14,
   "metadata": {
    "collapsed": false
   },
   "outputs": [],
   "source": [
    "plt.imshow(np.mean(HDF_File[session_ID]['raw_data']['Area01_merge'][:1000],axis=0))\n",
    "plt.show()"
   ]
  },
  {
   "cell_type": "code",
   "execution_count": null,
   "metadata": {
    "collapsed": false
   },
   "outputs": [],
   "source": []
  },
  {
   "cell_type": "code",
   "execution_count": 8,
   "metadata": {
    "collapsed": false,
    "scrolled": true
   },
   "outputs": [
    {
     "name": "stdout",
     "output_type": "stream",
     "text": [
      "Data Registered successfully: True\n"
     ]
    }
   ],
   "source": [
    "#check to make sure everything is registered\n",
    "print 'Data Registered successfully: %s' %(all([i in (HDF_File[session_ID]['raw_data'].keys()) for i in HDF_File[session_ID]['registered_data'].keys()]))"
   ]
  },
  {
   "cell_type": "code",
   "execution_count": null,
   "metadata": {
    "collapsed": false
   },
   "outputs": [],
   "source": [
    "def merge_files"
   ]
  },
  {
   "cell_type": "code",
   "execution_count": null,
   "metadata": {
    "collapsed": false,
    "scrolled": false
   },
   "outputs": [],
   "source": []
  },
  {
   "cell_type": "code",
   "execution_count": 14,
   "metadata": {
    "collapsed": false
   },
   "outputs": [],
   "source": [
    "HDF_File.close()"
   ]
  },
  {
   "cell_type": "markdown",
   "metadata": {},
   "source": [
    "<h1> Select ROI Centres </h1>"
   ]
  },
  {
   "cell_type": "code",
   "execution_count": 9,
   "metadata": {
    "collapsed": false
   },
   "outputs": [],
   "source": [
    "pth = '/media/yves/Storage 2/Road_Runner/Road_Runner.h5'\n",
    "HDF_File = h5py.File(pth,'a',libver='latest')\n",
    "session_ID = HDF_File.keys()[0]\n",
    "areas = HDF_File[session_ID]['raw_data'].keys()"
   ]
  },
  {
   "cell_type": "code",
   "execution_count": null,
   "metadata": {
    "collapsed": false
   },
   "outputs": [],
   "source": []
  },
  {
   "cell_type": "code",
   "execution_count": 10,
   "metadata": {
    "collapsed": true
   },
   "outputs": [],
   "source": [
    "areaFile = HDF_File[session_ID]['registered_data'][areas[0]]"
   ]
  },
  {
   "cell_type": "code",
   "execution_count": 11,
   "metadata": {
    "collapsed": false
   },
   "outputs": [
    {
     "ename": "ValueError",
     "evalue": "need at least one array to concatenate",
     "output_type": "error",
     "traceback": [
      "\u001b[1;31m---------------------------------------------------------------------------\u001b[0m",
      "\u001b[1;31mValueError\u001b[0m                                Traceback (most recent call last)",
      "\u001b[1;32m<ipython-input-11-372dc9dd62b3>\u001b[0m in \u001b[0;36m<module>\u001b[1;34m()\u001b[0m\n\u001b[1;32m----> 1\u001b[1;33m \u001b[0mMP\u001b[0m\u001b[1;33m.\u001b[0m\u001b[0mROIs\u001b[0m\u001b[1;33m.\u001b[0m\u001b[0madd_ROIS_meanIm\u001b[0m\u001b[1;33m(\u001b[0m\u001b[0mareaFile\u001b[0m\u001b[1;33m)\u001b[0m\u001b[1;33m\u001b[0m\u001b[0m\n\u001b[0m",
      "\u001b[1;32m/home/yves/Documents/twoptb/ROIs/ROI_simple.pyc\u001b[0m in \u001b[0;36madd_ROIS_meanIm\u001b[1;34m(Area)\u001b[0m\n\u001b[0;32m    276\u001b[0m \u001b[1;33m\u001b[0m\u001b[0m\n\u001b[0;32m    277\u001b[0m \u001b[1;33m\u001b[0m\u001b[0m\n\u001b[1;32m--> 278\u001b[1;33m     \u001b[0mArea\u001b[0m\u001b[1;33m.\u001b[0m\u001b[0mattrs\u001b[0m\u001b[1;33m[\u001b[0m\u001b[1;34m'ROI_patches'\u001b[0m\u001b[1;33m]\u001b[0m \u001b[1;33m=\u001b[0m \u001b[0mnp\u001b[0m\u001b[1;33m.\u001b[0m\u001b[0mdstack\u001b[0m\u001b[1;33m(\u001b[0m\u001b[0mROI_list\u001b[0m\u001b[1;33m)\u001b[0m\u001b[1;33m\u001b[0m\u001b[0m\n\u001b[0m\u001b[0;32m    279\u001b[0m     \u001b[0mArea\u001b[0m\u001b[1;33m.\u001b[0m\u001b[0mattrs\u001b[0m\u001b[1;33m[\u001b[0m\u001b[1;34m'ROI_centres'\u001b[0m\u001b[1;33m]\u001b[0m \u001b[1;33m=\u001b[0m \u001b[0mnp\u001b[0m\u001b[1;33m.\u001b[0m\u001b[0marray\u001b[0m\u001b[1;33m(\u001b[0m\u001b[0mpress_loc\u001b[0m\u001b[1;33m)\u001b[0m\u001b[1;33m\u001b[0m\u001b[0m\n\u001b[0;32m    280\u001b[0m     \u001b[0mfName\u001b[0m \u001b[1;33m=\u001b[0m \u001b[0mArea\u001b[0m\u001b[1;33m.\u001b[0m\u001b[0mname\u001b[0m\u001b[1;33m\u001b[0m\u001b[0m\n",
      "\u001b[1;32m/usr/lib/python2.7/dist-packages/numpy/lib/shape_base.pyc\u001b[0m in \u001b[0;36mdstack\u001b[1;34m(tup)\u001b[0m\n\u001b[0;32m    366\u001b[0m \u001b[1;33m\u001b[0m\u001b[0m\n\u001b[0;32m    367\u001b[0m     \"\"\"\n\u001b[1;32m--> 368\u001b[1;33m     \u001b[1;32mreturn\u001b[0m \u001b[0m_nx\u001b[0m\u001b[1;33m.\u001b[0m\u001b[0mconcatenate\u001b[0m\u001b[1;33m(\u001b[0m\u001b[1;33m[\u001b[0m\u001b[0matleast_3d\u001b[0m\u001b[1;33m(\u001b[0m\u001b[0m_m\u001b[0m\u001b[1;33m)\u001b[0m \u001b[1;32mfor\u001b[0m \u001b[0m_m\u001b[0m \u001b[1;32min\u001b[0m \u001b[0mtup\u001b[0m\u001b[1;33m]\u001b[0m\u001b[1;33m,\u001b[0m \u001b[1;36m2\u001b[0m\u001b[1;33m)\u001b[0m\u001b[1;33m\u001b[0m\u001b[0m\n\u001b[0m\u001b[0;32m    369\u001b[0m \u001b[1;33m\u001b[0m\u001b[0m\n\u001b[0;32m    370\u001b[0m \u001b[1;32mdef\u001b[0m \u001b[0m_replace_zero_by_x_arrays\u001b[0m\u001b[1;33m(\u001b[0m\u001b[0msub_arys\u001b[0m\u001b[1;33m)\u001b[0m\u001b[1;33m:\u001b[0m\u001b[1;33m\u001b[0m\u001b[0m\n",
      "\u001b[1;31mValueError\u001b[0m: need at least one array to concatenate"
     ]
    }
   ],
   "source": [
    "MP.ROIs.add_ROIS_meanIm(areaFile)"
   ]
  },
  {
   "cell_type": "code",
   "execution_count": 10,
   "metadata": {
    "collapsed": false
   },
   "outputs": [],
   "source": [
    "HDF_File.close()"
   ]
  },
  {
   "cell_type": "markdown",
   "metadata": {},
   "source": [
    "<h1> More File Management Things </h1>"
   ]
  },
  {
   "cell_type": "code",
   "execution_count": null,
   "metadata": {
    "collapsed": false
   },
   "outputs": [],
   "source": []
  },
  {
   "cell_type": "code",
   "execution_count": 7,
   "metadata": {
    "collapsed": false
   },
   "outputs": [],
   "source": [
    "DM = HDF_File[session_ID]['registered_data'][areas[0]].attrs['trigger_DM']"
   ]
  },
  {
   "cell_type": "code",
   "execution_count": 48,
   "metadata": {
    "collapsed": false
   },
   "outputs": [],
   "source": [
    "def copy_rois(session_File):\n",
    "    assert (all([i==j for i,j in zip(session_File['registered_data'].keys(),session_File['raw_data'].keys())])), \"register all your data\"\n",
    "\n",
    "    \n",
    "    fs = session_File['registered_data'].keys()\n",
    "    nFiles = len(fs)\n",
    "    for i,f in enumerate(fs):\n",
    "        print i,f\n",
    "        \n",
    "    fNum = int(raw_input(\"Select File to Copy ROIs from: \"))\n",
    "    assert ('ROI_centres' in session_File['registered_data'][fs[fNum]].attrs.iterkeys()), \"There is nothing to copy from this file\"\n",
    "        \n",
    "    copy_to = raw_input(\"select files to copy to, using comma separation (e.g. 1,2)\").split(',')\n",
    "    copy_to = [int(i) for i in copy_to if i!='']\n",
    "    assert all([i>=0 for i in copy_to]), 'Negative indexing?'\n",
    "    assert np.max(copy_to)<=(nFiles-1), 'Numba too big'\n",
    "    \n",
    "    return 'hooo'"
   ]
  },
  {
   "cell_type": "code",
   "execution_count": 47,
   "metadata": {
    "collapsed": false
   },
   "outputs": [
    {
     "name": "stdout",
     "output_type": "stream",
     "text": [
      "0 (20160216_17_38_29)-_MouseOnWheelzoom2_tones1\n",
      "1 (20160216_17_59_00)-_MouseOnWheelzoom2_tones3\n",
      "2 (20160216_17_48_00)-_MouseOnWheelzoom2_tones2\n",
      "Select File to Copy ROIs from: 0\n",
      "select files to copy to, using comma separation (e.g. 1,2)1,2,\n",
      "[1, 2]\n",
      "3\n"
     ]
    },
    {
     "data": {
      "text/plain": [
       "'hooo'"
      ]
     },
     "execution_count": 47,
     "metadata": {},
     "output_type": "execute_result"
    }
   ],
   "source": [
    "copy_rois(session_File=HDF_File[session_ID])"
   ]
  },
  {
   "cell_type": "code",
   "execution_count": null,
   "metadata": {
    "collapsed": true
   },
   "outputs": [],
   "source": [
    "def merge_datasets():\n",
    "    "
   ]
  },
  {
   "cell_type": "code",
   "execution_count": null,
   "metadata": {
    "collapsed": false
   },
   "outputs": [],
   "source": [
    "for f_idx, file_key in enumerate(HDF_File[session_ID]['raw_data'].keys()):\n",
    "    \n",
    "    print f_idx"
   ]
  },
  {
   "cell_type": "code",
   "execution_count": null,
   "metadata": {
    "collapsed": false
   },
   "outputs": [],
   "source": [
    "HDF_File['20160504']['raw_data'].keys()"
   ]
  },
  {
   "cell_type": "code",
   "execution_count": null,
   "metadata": {
    "collapsed": false
   },
   "outputs": [],
   "source": []
  },
  {
   "cell_type": "code",
   "execution_count": null,
   "metadata": {
    "collapsed": true
   },
   "outputs": [],
   "source": [
    "session_ID = '20160504'"
   ]
  },
  {
   "cell_type": "code",
   "execution_count": null,
   "metadata": {
    "collapsed": false
   },
   "outputs": [],
   "source": [
    "Areas = HDF_File[session_ID]['raw_data'].keys()"
   ]
  },
  {
   "cell_type": "code",
   "execution_count": null,
   "metadata": {
    "collapsed": false
   },
   "outputs": [],
   "source": [
    "plt.figure(figsize=(12,12))\n",
    "plt.imshow(np.mean(HDF_File[session_ID]['raw_data'][Areas[1]][:3600],axis=0),cmap='binary_r')"
   ]
  },
  {
   "cell_type": "code",
   "execution_count": null,
   "metadata": {
    "collapsed": false
   },
   "outputs": [],
   "source": [
    "plt.figure(figsize=(12,12))\n",
    "plt.imshow(np.mean(HDF_File[session_ID]['raw_data'][Areas[1]][:3600].astype('uint16'),axis=0),cmap='binary_r')"
   ]
  },
  {
   "cell_type": "code",
   "execution_count": null,
   "metadata": {
    "collapsed": false
   },
   "outputs": [],
   "source": [
    "a,b,c = MP.image_registration.motion_register(HDF_File[session_ID]['raw_data'][Areas[1]][:3600])"
   ]
  },
  {
   "cell_type": "code",
   "execution_count": null,
   "metadata": {
    "collapsed": false
   },
   "outputs": [],
   "source": [
    "a.astype('int16').size"
   ]
  },
  {
   "cell_type": "code",
   "execution_count": null,
   "metadata": {
    "collapsed": false
   },
   "outputs": [],
   "source": [
    "a.astype('uint16').size"
   ]
  },
  {
   "cell_type": "code",
   "execution_count": null,
   "metadata": {
    "collapsed": false
   },
   "outputs": [],
   "source": [
    "plt.figure(figsize=(12,12))\n",
    "\n",
    "plt.imshow(np.mean(a,axis=0),cmap='binary_r')"
   ]
  },
  {
   "cell_type": "code",
   "execution_count": null,
   "metadata": {
    "collapsed": false
   },
   "outputs": [],
   "source": [
    "plt.imshow(np.mean(a.astype(np.uint16),axis=0),cmap='binary_r')"
   ]
  },
  {
   "cell_type": "code",
   "execution_count": null,
   "metadata": {
    "collapsed": false
   },
   "outputs": [],
   "source": [
    "plt.figure(figsize=(12,12))\n",
    "plt.imshow(np.mean(a.astype(np.uint16),axis=0,dtype='f32'),cmap='binary_r')"
   ]
  },
  {
   "cell_type": "code",
   "execution_count": null,
   "metadata": {
    "collapsed": false
   },
   "outputs": [],
   "source": [
    "plt.figure(figsize=(12,12))\n",
    "\n",
    "plt.imshow(np.mean(HDF_File[session_ID]['registered_data'][Areas[][:1800].astype('int16'),axis=0),cmap='binary_r')"
   ]
  },
  {
   "cell_type": "code",
   "execution_count": null,
   "metadata": {
    "collapsed": false
   },
   "outputs": [],
   "source": [
    "plt.figure(figsize=(12,12))\n",
    "\n",
    "plt.imshow(np.mean(HDF_File[session_ID]['raw_data'][Areas[-2]][:1800].astype('int16'),axis=0),cmap='binary_r')"
   ]
  },
  {
   "cell_type": "code",
   "execution_count": null,
   "metadata": {
    "collapsed": true
   },
   "outputs": [],
   "source": [
    "import pyqtgraph as pg"
   ]
  },
  {
   "cell_type": "code",
   "execution_count": 18,
   "metadata": {
    "collapsed": false,
    "scrolled": true
   },
   "outputs": [
    {
     "data": {
      "text/plain": [
       "u'/media/yves/Storage 2/Road_Runner/Road_Runner.h5'"
      ]
     },
     "execution_count": 18,
     "metadata": {},
     "output_type": "execute_result"
    }
   ],
   "source": [
    "areaFile.file.filename"
   ]
  },
  {
   "cell_type": "code",
   "execution_count": 21,
   "metadata": {
    "collapsed": false
   },
   "outputs": [
    {
     "data": {
      "text/plain": [
       "u'/media/yves/Storage 2/Road_Runner/'"
      ]
     },
     "execution_count": 21,
     "metadata": {},
     "output_type": "execute_result"
    }
   ],
   "source": [
    "os.path.dirname(areaFile.file.filename) + '/'"
   ]
  },
  {
   "cell_type": "code",
   "execution_count": null,
   "metadata": {
    "collapsed": true
   },
   "outputs": [],
   "source": []
  }
 ],
 "metadata": {
  "kernelspec": {
   "display_name": "Python 2",
   "language": "python",
   "name": "python2"
  },
  "language_info": {
   "codemirror_mode": {
    "name": "ipython",
    "version": 2
   },
   "file_extension": ".py",
   "mimetype": "text/x-python",
   "name": "python",
   "nbconvert_exporter": "python",
   "pygments_lexer": "ipython2",
   "version": "2.7.11+"
  }
 },
 "nbformat": 4,
 "nbformat_minor": 0
}
